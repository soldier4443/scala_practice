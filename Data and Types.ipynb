{
 "cells": [
  {
   "cell_type": "code",
   "execution_count": 1,
   "metadata": {},
   "outputs": [
    {
     "data": {
      "text/plain": [
       "\u001b[36mx\u001b[39m: \u001b[32mInt\u001b[39m = \u001b[32m5\u001b[39m"
      ]
     },
     "execution_count": 1,
     "metadata": {},
     "output_type": "execute_result"
    }
   ],
   "source": [
    "val x:Int = 5"
   ]
  },
  {
   "cell_type": "code",
   "execution_count": 2,
   "metadata": {},
   "outputs": [
    {
     "data": {
      "text/plain": [
       "\u001b[36mx\u001b[39m: \u001b[32mInt\u001b[39m = \u001b[32m5\u001b[39m"
      ]
     },
     "execution_count": 2,
     "metadata": {},
     "output_type": "execute_result"
    }
   ],
   "source": [
    "val x = 5"
   ]
  },
  {
   "cell_type": "code",
   "execution_count": 2,
   "metadata": {},
   "outputs": [
    {
     "name": "stderr",
     "output_type": "stream",
     "text": [
      "cmd2.sc:1: reassignment to val\r\n",
      "val res2 = x = 7\r\n",
      "             ^"
     ]
    },
    {
     "ename": "",
     "evalue": "",
     "output_type": "error",
     "traceback": [
      "Compilation Failed"
     ]
    }
   ],
   "source": [
    "x = 7"
   ]
  },
  {
   "cell_type": "code",
   "execution_count": 3,
   "metadata": {},
   "outputs": [
    {
     "data": {
      "text/plain": [
       "\u001b[36mx\u001b[39m: \u001b[32mInt\u001b[39m = \u001b[32m7\u001b[39m"
      ]
     },
     "execution_count": 3,
     "metadata": {},
     "output_type": "execute_result"
    }
   ],
   "source": [
    "var x = 10\n",
    "x = 7"
   ]
  },
  {
   "cell_type": "code",
   "execution_count": 4,
   "metadata": {},
   "outputs": [
    {
     "data": {
      "text/plain": [
       "\u001b[36mstr\u001b[39m: \u001b[32mString\u001b[39m = \u001b[32m\"String\"\u001b[39m"
      ]
     },
     "execution_count": 4,
     "metadata": {},
     "output_type": "execute_result"
    }
   ],
   "source": [
    "val str = \"String\" // Type Inference"
   ]
  },
  {
   "cell_type": "code",
   "execution_count": 5,
   "metadata": {},
   "outputs": [
    {
     "data": {
      "text/plain": [
       "\u001b[36m+\u001b[39m: \u001b[32mString\u001b[39m = \u001b[32m\"Plus sign\"\u001b[39m"
      ]
     },
     "execution_count": 5,
     "metadata": {},
     "output_type": "execute_result"
    }
   ],
   "source": [
    "val + = \"Plus sign\""
   ]
  },
  {
   "cell_type": "code",
   "execution_count": 5,
   "metadata": {},
   "outputs": [
    {
     "ename": "",
     "evalue": "",
     "output_type": "error",
     "traceback": [
      "SyntaxError: found \"+)\", expected \")\" at index 6",
      "print(+)",
      "      ^"
     ]
    }
   ],
   "source": [
    "print(+)"
   ]
  },
  {
   "cell_type": "code",
   "execution_count": 5,
   "metadata": {},
   "outputs": [
    {
     "ename": "",
     "evalue": "",
     "output_type": "error",
     "traceback": [
      "SyntaxError: found \"+)\", expected \")\" at index 27",
      "print (+)",
      "       ^"
     ]
    }
   ],
   "source": [
    "val + = \"Plus Sign\"\n",
    "print (+)"
   ]
  },
  {
   "cell_type": "code",
   "execution_count": 5,
   "metadata": {},
   "outputs": [
    {
     "ename": "",
     "evalue": "",
     "output_type": "error",
     "traceback": [
      "SyntaxError: found \"+ )\", expected \")\" at index 8",
      "print ( + )",
      "        ^"
     ]
    }
   ],
   "source": [
    "print ( + )"
   ]
  },
  {
   "cell_type": "code",
   "execution_count": 5,
   "metadata": {},
   "outputs": [
    {
     "ename": "",
     "evalue": "",
     "output_type": "error",
     "traceback": [
      "<console>:1: illegal start of simple expression\r",
      "print (`+`)\r",
      "          ^\r",
      "<console>:1: ')' expected but eof found.\r",
      "print (`+`)\r",
      "           ^"
     ]
    }
   ],
   "source": [
    "print (`+`)"
   ]
  },
  {
   "cell_type": "code",
   "execution_count": 6,
   "metadata": {},
   "outputs": [
    {
     "name": "stdout",
     "output_type": "stream",
     "text": [
      "7\n"
     ]
    }
   ],
   "source": [
    "println(x)"
   ]
  },
  {
   "cell_type": "code",
   "execution_count": 7,
   "metadata": {},
   "outputs": [
    {
     "name": "stdout",
     "output_type": "stream",
     "text": [
      "7"
     ]
    }
   ],
   "source": [
    "print(x)"
   ]
  },
  {
   "cell_type": "code",
   "execution_count": 8,
   "metadata": {},
   "outputs": [
    {
     "name": "stdout",
     "output_type": "stream",
     "text": [
      "USD"
     ]
    }
   ],
   "source": [
    "val $ = \"USD\"\n",
    "print ($)"
   ]
  },
  {
   "cell_type": "code",
   "execution_count": 9,
   "metadata": {},
   "outputs": [
    {
     "data": {
      "text/plain": [
       "\u001b[36mlongValue\u001b[39m: \u001b[32mLong\u001b[39m = \u001b[32m14L\u001b[39m\r\n",
       "\u001b[36mlongValueWithLiteral\u001b[39m: \u001b[32mLong\u001b[39m = \u001b[32m14L\u001b[39m"
      ]
     },
     "execution_count": 9,
     "metadata": {},
     "output_type": "execute_result"
    }
   ],
   "source": [
    "val longValue:Long = 14\n",
    "val longValueWithLiteral = 14l"
   ]
  },
  {
   "cell_type": "code",
   "execution_count": 10,
   "metadata": {},
   "outputs": [
    {
     "data": {
      "text/plain": [
       "\u001b[36mmultiLineString\u001b[39m: \u001b[32mString\u001b[39m = \u001b[32m\"\"\"\n",
       "Hello.\n",
       "This is Scala.\n",
       "\"\"\"\u001b[39m"
      ]
     },
     "execution_count": 10,
     "metadata": {},
     "output_type": "execute_result"
    }
   ],
   "source": [
    "val multiLineString = \"\"\"Hello.\n",
    "This is Scala.\"\"\""
   ]
  },
  {
   "cell_type": "code",
   "execution_count": 11,
   "metadata": {},
   "outputs": [
    {
     "name": "stdout",
     "output_type": "stream",
     "text": [
      "Hello.\n",
      "This is Scala."
     ]
    }
   ],
   "source": [
    "print(multiLineString)"
   ]
  },
  {
   "cell_type": "code",
   "execution_count": 13,
   "metadata": {},
   "outputs": [
    {
     "name": "stdout",
     "output_type": "stream",
     "text": [
      "I have 400 won.I have 8 Apples."
     ]
    },
    {
     "data": {
      "text/plain": [
       "\u001b[36mmoney\u001b[39m: \u001b[32mInt\u001b[39m = \u001b[32m400\u001b[39m\r\n",
       "\u001b[36mitem\u001b[39m: \u001b[32mString\u001b[39m = \u001b[32m\"Apple\"\u001b[39m"
      ]
     },
     "execution_count": 13,
     "metadata": {},
     "output_type": "execute_result"
    }
   ],
   "source": [
    "// String Interpolation\n",
    "val money = 400\n",
    "print(s\"I have $money won.\")\n",
    "\n",
    "val item = \"Apple\"\n",
    "print(s\"I have 8 ${item}s.\")"
   ]
  },
  {
   "cell_type": "code",
   "execution_count": 15,
   "metadata": {},
   "outputs": [
    {
     "name": "stdout",
     "output_type": "stream",
     "text": [
      "PI is 3.142"
     ]
    },
    {
     "data": {
      "text/plain": [
       "\u001b[36mPI\u001b[39m: \u001b[32mDouble\u001b[39m = \u001b[32m3.141592\u001b[39m"
      ]
     },
     "execution_count": 15,
     "metadata": {},
     "output_type": "execute_result"
    }
   ],
   "source": [
    "// Formatted strings\n",
    "val PI = 3.141592\n",
    "print(f\"PI is ${PI}%.3f\")"
   ]
  },
  {
   "cell_type": "code",
   "execution_count": 16,
   "metadata": {},
   "outputs": [
    {
     "name": "stdout",
     "output_type": "stream",
     "text": [
      "12"
     ]
    },
    {
     "data": {
      "text/plain": [
       "\u001b[36minput\u001b[39m: \u001b[32mString\u001b[39m = \u001b[32m\"Enjoying this apple 12 times today!\"\u001b[39m\r\n",
       "\u001b[36mpattern\u001b[39m: \u001b[32mutil\u001b[39m.\u001b[32mmatching\u001b[39m.\u001b[32mRegex\u001b[39m = .* apple ([\\d.]+) times .*\r\n",
       "\u001b[36mamountText\u001b[39m: \u001b[32mString\u001b[39m = \u001b[32m\"12\"\u001b[39m"
      ]
     },
     "execution_count": 16,
     "metadata": {},
     "output_type": "execute_result"
    }
   ],
   "source": [
    "// Regex ... -_-\n",
    "val input = \"Enjoying this apple 12 times today!\"\n",
    "val pattern = \"\"\".* apple ([\\d.]+) times .*\"\"\".r\n",
    "\n",
    "val pattern(amountText) = input\n",
    "print (amountText)"
   ]
  },
  {
   "cell_type": "code",
   "execution_count": 18,
   "metadata": {},
   "outputs": [
    {
     "data": {
      "text/plain": [
       "\u001b[36mres17_0\u001b[39m: \u001b[32mClass\u001b[39m[\u001b[32m?0\u001b[39m] = class java.lang.String\r\n",
       "\u001b[36mres17_1\u001b[39m: \u001b[32mClass\u001b[39m[\u001b[32mChar\u001b[39m] = char\r\n",
       "\u001b[36mres17_2\u001b[39m: \u001b[32mClass\u001b[39m[\u001b[32mInt\u001b[39m] = int"
      ]
     },
     "execution_count": 18,
     "metadata": {},
     "output_type": "execute_result"
    }
   ],
   "source": [
    "\"c\".getClass\n",
    "'c'.getClass\n",
    "5.getClass"
   ]
  },
  {
   "cell_type": "code",
   "execution_count": 24,
   "metadata": {},
   "outputs": [
    {
     "data": {
      "text/plain": [
       "\u001b[36mhello\u001b[39m: \u001b[32mString\u001b[39m = null"
      ]
     },
     "execution_count": 24,
     "metadata": {},
     "output_type": "execute_result"
    }
   ],
   "source": [
    "// Null is type!\n",
    "val hello = null.asInstanceOf[String]"
   ]
  },
  {
   "cell_type": "code",
   "execution_count": 23,
   "metadata": {},
   "outputs": [
    {
     "ename": "",
     "evalue": "",
     "output_type": "error",
     "traceback": [
      "\u001b[31mjava.lang.NullPointerException\u001b[39m\r",
      "  $sess.cmd22Wrapper$Helper.<init>(\u001b[32mcmd22.sc\u001b[39m:\u001b[32m1\u001b[39m)\r",
      "  $sess.cmd22Wrapper.<init>(\u001b[32mcmd22.sc\u001b[39m:\u001b[32m235\u001b[39m)\r",
      "  $sess.cmd22$.<init>(\u001b[32mcmd22.sc\u001b[39m:\u001b[32m140\u001b[39m)\r",
      "  $sess.cmd22$.<clinit>(\u001b[32mcmd22.sc\u001b[39m:\u001b[32m-1\u001b[39m)"
     ]
    }
   ],
   "source": [
    "null.getClass"
   ]
  },
  {
   "cell_type": "code",
   "execution_count": 31,
   "metadata": {},
   "outputs": [
    {
     "name": "stdout",
     "output_type": "stream",
     "text": [
      "c\n",
      "99.0\n",
      "c\n",
      "c\n"
     ]
    },
    {
     "data": {
      "text/plain": [
       "\u001b[36mc\u001b[39m: \u001b[32mChar\u001b[39m = \u001b[32m'c'\u001b[39m"
      ]
     },
     "execution_count": 31,
     "metadata": {},
     "output_type": "execute_result"
    }
   ],
   "source": [
    "// type conversion\n",
    "val c = 'c'\n",
    "println(c)\n",
    "println(c.toInt.toString.toDouble)\n",
    "println(c.toDouble.toChar)\n",
    "println(c.toInt.toChar)"
   ]
  },
  {
   "cell_type": "code",
   "execution_count": 35,
   "metadata": {},
   "outputs": [
    {
     "data": {
      "text/plain": [
       "\u001b[36mres34_1\u001b[39m: \u001b[32mClass\u001b[39m[\u001b[32mUnit\u001b[39m] = void"
      ]
     },
     "execution_count": 35,
     "metadata": {},
     "output_type": "execute_result"
    }
   ],
   "source": [
    "// Unit - void\n",
    "val u = ()\n",
    "u.getClass"
   ]
  },
  {
   "cell_type": "code",
   "execution_count": 39,
   "metadata": {},
   "outputs": [
    {
     "data": {
      "text/plain": [
       "\u001b[36mpair\u001b[39m: (\u001b[32mInt\u001b[39m, \u001b[32mString\u001b[39m) = (\u001b[32m0\u001b[39m, \u001b[32m\"tura\"\u001b[39m)\r\n",
       "\u001b[36minfo\u001b[39m: (\u001b[32mString\u001b[39m, \u001b[32mInt\u001b[39m) = (\u001b[32m\"red\"\u001b[39m, \u001b[32m16711680\u001b[39m)"
      ]
     },
     "execution_count": 39,
     "metadata": {},
     "output_type": "execute_result"
    }
   ],
   "source": [
    "// Tuple\n",
    "val pair = (0, \"tura\")\n",
    "val info = \"red\" -> 0xff0000"
   ]
  },
  {
   "cell_type": "code",
   "execution_count": 44,
   "metadata": {},
   "outputs": [
    {
     "name": "stdout",
     "output_type": "stream",
     "text": [
      "true"
     ]
    },
    {
     "data": {
      "text/plain": [
       "\u001b[36m??\u001b[39m: ((\u001b[32mString\u001b[39m, \u001b[32mString\u001b[39m), \u001b[32mString\u001b[39m) = ((\u001b[32m\"I\"\u001b[39m, \u001b[32m\"am\"\u001b[39m), \u001b[32m\"tura\"\u001b[39m)\r\n",
       "\u001b[36m???\u001b[39m: ((\u001b[32mString\u001b[39m, \u001b[32mString\u001b[39m), \u001b[32mString\u001b[39m) = ((\u001b[32m\"I\"\u001b[39m, \u001b[32m\"am\"\u001b[39m), \u001b[32m\"tura\"\u001b[39m)"
      ]
     },
     "execution_count": 44,
     "metadata": {},
     "output_type": "execute_result"
    }
   ],
   "source": [
    "// ok\n",
    "val ?? = \"I\" -> \"am\" -> \"tura\"\n",
    "val ??? = (\"I\" -> \"am\") -> \"tura\"\n",
    "\n",
    "print (?? == ???)"
   ]
  },
  {
   "cell_type": "code",
   "execution_count": null,
   "metadata": {},
   "outputs": [],
   "source": []
  }
 ],
 "metadata": {
  "kernelspec": {
   "display_name": "Scala 2.11.11",
   "language": "scala",
   "name": "scala"
  },
  "language_info": {
   "codemirror_mode": "text/x-scala",
   "file_extension": ".scala",
   "mimetype": "text/x-scala",
   "name": "scala211",
   "nbconvert_exporter": "script",
   "pygments_lexer": "scala",
   "version": "2.11.11"
  }
 },
 "nbformat": 4,
 "nbformat_minor": 2
}
