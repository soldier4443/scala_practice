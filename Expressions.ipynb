{
 "cells": [
  {
   "cell_type": "code",
   "execution_count": 1,
   "metadata": {},
   "outputs": [
    {
     "data": {
      "text/plain": [
       "\u001b[36mres0_0\u001b[39m: \u001b[32mString\u001b[39m = \u001b[32m\"Hello\"\u001b[39m\r\n",
       "\u001b[36mres0_1\u001b[39m: \u001b[32mString\u001b[39m = \u001b[32m\"ab\"\u001b[39m"
      ]
     },
     "execution_count": 1,
     "metadata": {},
     "output_type": "execute_result"
    }
   ],
   "source": [
    "// Expression: 값을 반환하는 코드의 단위\n",
    "\"Hello\"\n",
    "\"a\" + \"b\""
   ]
  },
  {
   "cell_type": "code",
   "execution_count": 3,
   "metadata": {},
   "outputs": [
    {
     "data": {
      "text/plain": [
       "\u001b[36mamount\u001b[39m: \u001b[32mInt\u001b[39m = \u001b[32m110\u001b[39m"
      ]
     },
     "execution_count": 3,
     "metadata": {},
     "output_type": "execute_result"
    }
   ],
   "source": [
    "// This is Expression Block\n",
    "// Expression Block return some value.\n",
    "// value x is \"intended\" to define amount.\n",
    "val amount = { val x = 5 * 20; x + 10 }"
   ]
  },
  {
   "cell_type": "code",
   "execution_count": 4,
   "metadata": {},
   "outputs": [
    {
     "data": {
      "text/plain": [
       "\u001b[36mamount\u001b[39m: \u001b[32mInt\u001b[39m = \u001b[32m1\u001b[39m"
      ]
     },
     "execution_count": 4,
     "metadata": {},
     "output_type": "execute_result"
    }
   ],
   "source": [
    "// This is statement\n",
    "// Statement does not return any value. (Unit)\n",
    "val amount = 1"
   ]
  },
  {
   "cell_type": "code",
   "execution_count": 6,
   "metadata": {},
   "outputs": [
    {
     "name": "stdout",
     "output_type": "stream",
     "text": [
      "x is greater than 5.\n"
     ]
    },
    {
     "data": {
      "text/plain": [
       "\u001b[36mx\u001b[39m: \u001b[32mInt\u001b[39m = \u001b[32m10\u001b[39m"
      ]
     },
     "execution_count": 6,
     "metadata": {},
     "output_type": "execute_result"
    }
   ],
   "source": [
    "// If statements\n",
    "val x = 10\n",
    "\n",
    "if (x > 5)\n",
    "    println(\"x is greater than 5.\")\n",
    "else\n",
    "    println(\"x is smaller than 5\")"
   ]
  },
  {
   "cell_type": "code",
   "execution_count": 7,
   "metadata": {},
   "outputs": [
    {
     "data": {
      "text/plain": [
       "\u001b[36mx\u001b[39m: \u001b[32mInt\u001b[39m = \u001b[32m5\u001b[39m\r\n",
       "\u001b[36my\u001b[39m: \u001b[32mInt\u001b[39m = \u001b[32m10\u001b[39m\r\n",
       "\u001b[36mmax\u001b[39m: \u001b[32mInt\u001b[39m = \u001b[32m10\u001b[39m"
      ]
     },
     "execution_count": 7,
     "metadata": {},
     "output_type": "execute_result"
    }
   ],
   "source": [
    "// If expressions\n",
    "val x = 5\n",
    "val y = 10\n",
    "\n",
    "val max = if (x > y) x else y"
   ]
  },
  {
   "cell_type": "code",
   "execution_count": 8,
   "metadata": {},
   "outputs": [
    {
     "data": {
      "text/plain": [
       "\u001b[36mx\u001b[39m: \u001b[32mInt\u001b[39m = \u001b[32m5\u001b[39m\r\n",
       "\u001b[36my\u001b[39m: \u001b[32mInt\u001b[39m = \u001b[32m10\u001b[39m\r\n",
       "\u001b[36mmax\u001b[39m: \u001b[32mInt\u001b[39m = \u001b[32m10\u001b[39m"
      ]
     },
     "execution_count": 8,
     "metadata": {},
     "output_type": "execute_result"
    }
   ],
   "source": [
    "// match expressions\n",
    "val x = 5\n",
    "val y = 10\n",
    "\n",
    "val max = x > y match {\n",
    "    case true => x\n",
    "    case false => y\n",
    "}"
   ]
  },
  {
   "cell_type": "code",
   "execution_count": 9,
   "metadata": {},
   "outputs": [
    {
     "name": "stdout",
     "output_type": "stream",
     "text": [
      "ok"
     ]
    },
    {
     "data": {
      "text/plain": [
       "\u001b[36mresponse\u001b[39m: \u001b[32mInt\u001b[39m = \u001b[32m200\u001b[39m\r\n",
       "\u001b[36mmessage\u001b[39m: \u001b[32mString\u001b[39m = \u001b[32m\"ok\"\u001b[39m"
      ]
     },
     "execution_count": 9,
     "metadata": {},
     "output_type": "execute_result"
    }
   ],
   "source": [
    "val response = 200\n",
    "\n",
    "val message = response match {\n",
    "    case 200 => \"ok\"\n",
    "    case 300 => {\n",
    "        println(\"Helo this is Scala!\")\n",
    "        \"error 1\"\n",
    "    }\n",
    "    case 400 => {\n",
    "        println(\"My name is tura\")\n",
    "        \"error 2\"\n",
    "    }\n",
    "}\n",
    "\n",
    "print(message)"
   ]
  },
  {
   "cell_type": "code",
   "execution_count": 14,
   "metadata": {},
   "outputs": [
    {
     "name": "stdout",
     "output_type": "stream",
     "text": [
      "Well, integral is not basic operation.. Maybe.\n",
      "()"
     ]
    },
    {
     "data": {
      "text/plain": [
       "\u001b[36mop\u001b[39m: \u001b[32mString\u001b[39m = \u001b[32m\"integral\"\u001b[39m\r\n",
       "\u001b[36mstr\u001b[39m: \u001b[32mAny\u001b[39m = ()"
      ]
     },
     "execution_count": 14,
     "metadata": {},
     "output_type": "execute_result"
    }
   ],
   "source": [
    "// using value binding\n",
    "val op = \"integral\"\n",
    "\n",
    "val str = op match {\n",
    "    case \"+\" => \"ADD\"\n",
    "    case \"-\" => \"SUBTRACT\"\n",
    "    case \"*\" | \"x\" => \"MULTIPLY\"\n",
    "    case \"/\" => \"DIVIDE\" // alternatives\n",
    "    case other => {\n",
    "        println(s\"Well, $other is not basic operation.. Maybe.\")\n",
    "    }\n",
    "}\n",
    "\n",
    "print(str)"
   ]
  },
  {
   "cell_type": "code",
   "execution_count": 15,
   "metadata": {},
   "outputs": [
    {
     "name": "stdout",
     "output_type": "stream",
     "text": [
      "Well, integral is not basic operation.. Maybe.\n",
      "()"
     ]
    },
    {
     "data": {
      "text/plain": [
       "\u001b[36mop\u001b[39m: \u001b[32mString\u001b[39m = \u001b[32m\"integral\"\u001b[39m\r\n",
       "\u001b[36mstr\u001b[39m: \u001b[32mAny\u001b[39m = ()"
      ]
     },
     "execution_count": 15,
     "metadata": {},
     "output_type": "execute_result"
    }
   ],
   "source": [
    "// Using wildcard\n",
    "val op = \"integral\"\n",
    "\n",
    "val str = op match {\n",
    "    case \"+\" => \"ADD\"\n",
    "    case \"-\" => \"SUBTRACT\"\n",
    "    case \"*\" | \"x\" => \"MULTIPLY\"\n",
    "    case \"/\" => \"DIVIDE\" // alternatives\n",
    "    case _ => {\n",
    "        println(s\"Well, $op is not basic operation.. Maybe.\")\n",
    "    }\n",
    "}\n",
    "\n",
    "print(str)"
   ]
  },
  {
   "cell_type": "code",
   "execution_count": 17,
   "metadata": {},
   "outputs": [
    {
     "name": "stdout",
     "output_type": "stream",
     "text": [
      "null..............\n"
     ]
    },
    {
     "data": {
      "text/plain": [
       "\u001b[36ms\u001b[39m: \u001b[32mNull\u001b[39m = null"
      ]
     },
     "execution_count": 17,
     "metadata": {},
     "output_type": "execute_result"
    }
   ],
   "source": [
    "// Pattern guard! \n",
    "val s = null\n",
    "\n",
    "val result = s match {\n",
    "    case value if value != null => println(s\"Hello, $value!\")\n",
    "    case value => println(\"null..............\")\n",
    "}"
   ]
  },
  {
   "cell_type": "code",
   "execution_count": 28,
   "metadata": {},
   "outputs": [
    {
     "data": {
      "text/plain": [
       "\u001b[36many\u001b[39m: \u001b[32mAny\u001b[39m = 123\r\n",
       "\u001b[36mresult\u001b[39m: \u001b[32mString\u001b[39m = \u001b[32m\"123 Long\"\u001b[39m"
      ]
     },
     "execution_count": 28,
     "metadata": {},
     "output_type": "execute_result"
    }
   ],
   "source": [
    "// Identify real type using match\n",
    "val any:Any = 123l\n",
    "\n",
    "val result = any match {\n",
    "    case x:String => s\"'$x'\"\n",
    "    case x:Int => s\"${x} Int\"\n",
    "    case x:Long => s\"${x} Long\"\n",
    "    case x:Double => f\"${x}%.2f Double\"\n",
    "    case x:Float => f\"${x}%.2f Float\"\n",
    "}"
   ]
  },
  {
   "cell_type": "code",
   "execution_count": 30,
   "metadata": {},
   "outputs": [
    {
     "data": {
      "text/plain": [
       "\u001b[36mres29_0\u001b[39m: \u001b[32mRange\u001b[39m.\u001b[32mInclusive\u001b[39m = \u001b[33mRange\u001b[39m(\u001b[32m1\u001b[39m, \u001b[32m2\u001b[39m, \u001b[32m3\u001b[39m, \u001b[32m4\u001b[39m, \u001b[32m5\u001b[39m, \u001b[32m6\u001b[39m, \u001b[32m7\u001b[39m)\r\n",
       "\u001b[36mres29_1\u001b[39m: \u001b[32mRange\u001b[39m = \u001b[33mRange\u001b[39m(\u001b[32m1\u001b[39m, \u001b[32m2\u001b[39m, \u001b[32m3\u001b[39m, \u001b[32m4\u001b[39m, \u001b[32m5\u001b[39m, \u001b[32m6\u001b[39m)"
      ]
     },
     "execution_count": 30,
     "metadata": {},
     "output_type": "execute_result"
    }
   ],
   "source": [
    "// get int ranges\n",
    "\n",
    "1 to 7    // inclusive\n",
    "1 until 7 // exclusive"
   ]
  },
  {
   "cell_type": "code",
   "execution_count": 34,
   "metadata": {},
   "outputs": [
    {
     "name": "stdout",
     "output_type": "stream",
     "text": [
      "1 2 3 4 5 6 7 8 9 10 "
     ]
    },
    {
     "data": {
      "text/plain": [
       "\u001b[36mcol\u001b[39m: \u001b[32mcollection\u001b[39m.\u001b[32mimmutable\u001b[39m.\u001b[32mIndexedSeq\u001b[39m[\u001b[32mInt\u001b[39m] = \u001b[33mVector\u001b[39m(\u001b[32m1\u001b[39m, \u001b[32m2\u001b[39m, \u001b[32m3\u001b[39m, \u001b[32m4\u001b[39m, \u001b[32m5\u001b[39m, \u001b[32m6\u001b[39m, \u001b[32m7\u001b[39m, \u001b[32m8\u001b[39m, \u001b[32m9\u001b[39m, \u001b[32m10\u001b[39m)"
      ]
     },
     "execution_count": 34,
     "metadata": {},
     "output_type": "execute_result"
    }
   ],
   "source": [
    "// Simple for loop\n",
    "for (x <- 1 to 10) print(s\"$x \")\n",
    "\n",
    "// yield collection\n",
    "val col = for (x <- 1 to 10) yield x"
   ]
  },
  {
   "cell_type": "code",
   "execution_count": 39,
   "metadata": {},
   "outputs": [
    {
     "name": "stdout",
     "output_type": "stream",
     "text": [
      "1 4 9 16 25 36 49 64 81 100 \n",
      "Seoul\n",
      "Busan\n"
     ]
    },
    {
     "data": {
      "text/plain": [
       "\u001b[36mcities\u001b[39m: \u001b[32mString\u001b[39m = \u001b[32m\"Seoul,Busan,SeongNam\"\u001b[39m"
      ]
     },
     "execution_count": 39,
     "metadata": {},
     "output_type": "execute_result"
    }
   ],
   "source": [
    "// iterator guard (filter)\n",
    "for (x <- 1 to 100 if Math.round(Math.sqrt(x)) == Math.sqrt(x)) print(s\"$x \")\n",
    "println()\n",
    "\n",
    "// blocks...\n",
    "val cities = \"Seoul,Busan,SeongNam\"\n",
    "for {\n",
    "    x <- cities.split(\",\")\n",
    "    if x != null\n",
    "    if x.size > 0 && x.size < 7\n",
    "} {\n",
    "    println(x)\n",
    "}"
   ]
  },
  {
   "cell_type": "code",
   "execution_count": 47,
   "metadata": {},
   "outputs": [
    {
     "name": "stdout",
     "output_type": "stream",
     "text": [
      "1 * 1 = 1\n",
      "1 * 2 = 2\n",
      "1 * 3 = 3\n",
      "2 * 1 = 2\n",
      "2 * 2 = 4\n",
      "2 * 3 = 6\n",
      "3 * 1 = 3\n",
      "3 * 2 = 6\n",
      "3 * 3 = 9\n"
     ]
    }
   ],
   "source": [
    "// nested loop\n",
    "for { x <- 1 to 3 \n",
    "      y <- 1 to 3 } {\n",
    "    val res = x * y\n",
    "    println(s\"$x * $y = $res\")\n",
    "}"
   ]
  },
  {
   "cell_type": "code",
   "execution_count": 48,
   "metadata": {},
   "outputs": [
    {
     "name": "stdout",
     "output_type": "stream",
     "text": [
      "1 * 1 = 1\n",
      "1 * 2 = 2\n",
      "1 * 3 = 3\n",
      "2 * 1 = 2\n",
      "2 * 2 = 4\n",
      "2 * 3 = 6\n",
      "3 * 1 = 3\n",
      "3 * 2 = 6\n",
      "3 * 3 = 9\n"
     ]
    },
    {
     "data": {
      "text/plain": [
       "\u001b[36mres47\u001b[39m: \u001b[32mcollection\u001b[39m.\u001b[32mimmutable\u001b[39m.\u001b[32mIndexedSeq\u001b[39m[\u001b[32mInt\u001b[39m] = \u001b[33mVector\u001b[39m(\u001b[32m1\u001b[39m, \u001b[32m2\u001b[39m, \u001b[32m3\u001b[39m, \u001b[32m2\u001b[39m, \u001b[32m4\u001b[39m, \u001b[32m6\u001b[39m, \u001b[32m3\u001b[39m, \u001b[32m6\u001b[39m, \u001b[32m9\u001b[39m)"
      ]
     },
     "execution_count": 48,
     "metadata": {},
     "output_type": "execute_result"
    }
   ],
   "source": [
    "// nested loop (using value binding)\n",
    "for { x <- 1 to 3 \n",
    "      y <- 1 to 3 \n",
    "      val res = x * y } yield {\n",
    "    println(s\"$x * $y = $res\")\n",
    "    res\n",
    "}"
   ]
  },
  {
   "cell_type": "code",
   "execution_count": 52,
   "metadata": {},
   "outputs": [
    {
     "data": {
      "text/plain": [
       "\u001b[36mname\u001b[39m: \u001b[32mString\u001b[39m = \u001b[32m\"\"\u001b[39m\r\n",
       "\u001b[36mresult\u001b[39m: \u001b[32mString\u001b[39m = \u001b[32m\"n/a\"\u001b[39m"
      ]
     },
     "execution_count": 52,
     "metadata": {},
     "output_type": "execute_result"
    }
   ],
   "source": [
    "val name = \"\"\n",
    "\n",
    "val result = name match {\n",
    "    case x if !x.isEmpty => x\n",
    "    case x => \"n/a\"\n",
    "}"
   ]
  },
  {
   "cell_type": "code",
   "execution_count": 56,
   "metadata": {},
   "outputs": [
    {
     "data": {
      "text/plain": [
       "\u001b[36mamount\u001b[39m: \u001b[32mDouble\u001b[39m = \u001b[32m-1.0\u001b[39m\r\n",
       "\u001b[36mresult\u001b[39m: \u001b[32mString\u001b[39m = \u001b[32m\"less\"\u001b[39m\r\n",
       "\u001b[36mresultUsingMatch\u001b[39m: \u001b[32mString\u001b[39m = \u001b[32m\"less\"\u001b[39m"
      ]
     },
     "execution_count": 56,
     "metadata": {},
     "output_type": "execute_result"
    }
   ],
   "source": [
    "val amount:Double = -1\n",
    "\n",
    "val result = { \n",
    "    if (amount > 0) \"greater\"\n",
    "    else if (amount == 0) \"same\"\n",
    "    else \"less\"\n",
    "}\n",
    "\n",
    "val resultUsingMatch = amount match {\n",
    "    case x if (x > 0) => \"greater\"\n",
    "    case x if (x == 0) => \"same\"\n",
    "    case _ => \"less\"\n",
    "}"
   ]
  },
  {
   "cell_type": "code",
   "execution_count": 59,
   "metadata": {},
   "outputs": [
    {
     "name": "stdout",
     "output_type": "stream",
     "text": [
      "1, 2, 3, 4, 5, \n",
      "6, 7, 8, 9, 10, \n",
      "11, 12, 13, 14, 15, \n",
      "16, 17, 18, 19, 20, \n",
      "21, 22, 23, 24, 25, \n",
      "26, 27, 28, 29, 30, \n",
      "31, 32, 33, 34, 35, \n",
      "36, 37, 38, 39, 40, \n",
      "41, 42, 43, 44, 45, \n",
      "46, 47, 48, 49, 50, \n",
      "51, 52, 53, 54, 55, \n",
      "56, 57, 58, 59, 60, \n",
      "61, 62, 63, 64, 65, \n",
      "66, 67, 68, 69, 70, \n",
      "71, 72, 73, 74, 75, \n",
      "76, 77, 78, 79, 80, \n",
      "81, 82, 83, 84, 85, \n",
      "86, 87, 88, 89, 90, \n",
      "91, 92, 93, 94, 95, \n",
      "96, 97, 98, 99, 100, \n"
     ]
    }
   ],
   "source": [
    "for (x <- 1 to 100) {\n",
    "    print(s\"$x, \")\n",
    "    if (x%5 == 0)\n",
    "        println()\n",
    "}"
   ]
  },
  {
   "cell_type": "code",
   "execution_count": 61,
   "metadata": {},
   "outputs": [
    {
     "name": "stdout",
     "output_type": "stream",
     "text": [
      "1 2 type 4 safe type 7 8 type safe 11 type 13 14 typesafe 16 17 type 19 safe type 22 23 type safe 26 type 28 29 typesafe 31 32 type 34 safe type 37 38 type safe 41 type 43 44 typesafe 46 47 type 49 safe type 52 53 type safe 56 type 58 59 typesafe 61 62 type 64 safe type 67 68 type safe 71 type 73 74 typesafe 76 77 type 79 safe type 82 83 type safe 86 type 88 89 typesafe 91 92 type 94 safe type 97 98 type safe "
     ]
    }
   ],
   "source": [
    "for { x <- 1 to 100\n",
    "      val res = x match {\n",
    "          case x if x%3 == 0 && x%5 == 0 => \"typesafe\"\n",
    "          case x if x%3 == 0 => \"type\"\n",
    "          case x if x%5 == 0 => \"safe\"\n",
    "          case x => x\n",
    "      }\n",
    "    } print(s\"$res \")"
   ]
  },
  {
   "cell_type": "code",
   "execution_count": 64,
   "metadata": {},
   "outputs": [
    {
     "name": "stdout",
     "output_type": "stream",
     "text": [
      "1 2 type 4 safe type 7 8 type safe 11 type 13 14 typesafe 16 17 type 19 safe type 22 23 type safe 26 type 28 29 typesafe 31 32 type 34 safe type 37 38 type safe 41 type 43 44 typesafe 46 47 type 49 safe type 52 53 type safe 56 type 58 59 typesafe 61 62 type 64 safe type 67 68 type safe 71 type 73 74 typesafe 76 77 type 79 safe type 82 83 type safe 86 type 88 89 typesafe 91 92 type 94 safe type 97 98 type safe "
     ]
    }
   ],
   "source": [
    "for (x <- 1 to 100) print({if (x%3 == 0 && x%5 == 0) \"typesafe\" else if (x%3 == 0) \"type\" else if (x%5 == 0) \"safe\" else x} + \" \")"
   ]
  },
  {
   "cell_type": "code",
   "execution_count": null,
   "metadata": {},
   "outputs": [],
   "source": []
  }
 ],
 "metadata": {
  "kernelspec": {
   "display_name": "Scala 2.11.11",
   "language": "scala",
   "name": "scala"
  },
  "language_info": {
   "codemirror_mode": "text/x-scala",
   "file_extension": ".scala",
   "mimetype": "text/x-scala",
   "name": "scala211",
   "nbconvert_exporter": "script",
   "pygments_lexer": "scala",
   "version": "2.11.11"
  }
 },
 "nbformat": 4,
 "nbformat_minor": 2
}
