{
 "cells": [
  {
   "cell_type": "code",
   "execution_count": 1,
   "metadata": {},
   "outputs": [
    {
     "data": {
      "text/plain": [
       "defined \u001b[32mfunction\u001b[39m \u001b[36mdouble\u001b[39m"
      ]
     },
     "execution_count": 1,
     "metadata": {},
     "output_type": "execute_result"
    }
   ],
   "source": [
    "def double(x: Int) = x * 2"
   ]
  },
  {
   "cell_type": "code",
   "execution_count": 3,
   "metadata": {},
   "outputs": [
    {
     "data": {
      "text/plain": [
       "defined \u001b[32mfunction\u001b[39m \u001b[36mdouble\u001b[39m\r\n",
       "\u001b[36mres2_1\u001b[39m: \u001b[32mInt\u001b[39m = \u001b[32m10\u001b[39m\r\n",
       "\u001b[36mmyDouble\u001b[39m: \u001b[32mInt\u001b[39m => \u001b[32mInt\u001b[39m = <function1>\r\n",
       "\u001b[36mres2_3\u001b[39m: \u001b[32mInt\u001b[39m = \u001b[32m10\u001b[39m\r\n",
       "\u001b[36mmyDoubleCopy\u001b[39m: \u001b[32mInt\u001b[39m => \u001b[32mInt\u001b[39m = <function1>\r\n",
       "\u001b[36mres2_5\u001b[39m: \u001b[32mInt\u001b[39m = \u001b[32m10\u001b[39m"
      ]
     },
     "execution_count": 3,
     "metadata": {},
     "output_type": "execute_result"
    }
   ],
   "source": [
    "def double(x: Int) = x * 2\n",
    "\n",
    "double(5)\n",
    "\n",
    "// Explicit type is required.\n",
    "val myDouble: Int => Int = double\n",
    "\n",
    "myDouble(5)\n",
    "\n",
    "val myDoubleCopy = myDouble\n",
    "\n",
    "myDoubleCopy(5)"
   ]
  },
  {
   "cell_type": "code",
   "execution_count": 4,
   "metadata": {},
   "outputs": [
    {
     "data": {
      "text/plain": [
       "defined \u001b[32mfunction\u001b[39m \u001b[36mdouble\u001b[39m\r\n",
       "\u001b[36mmyDouble\u001b[39m: \u001b[32mInt\u001b[39m => \u001b[32mInt\u001b[39m = <function1>"
      ]
     },
     "execution_count": 4,
     "metadata": {},
     "output_type": "execute_result"
    }
   ],
   "source": [
    "def double(x: Int) = x * 2\n",
    "\n",
    "// assign function using wildcard\n",
    "// Explicit type is *not* required.\n",
    "val myDouble = double _"
   ]
  },
  {
   "cell_type": "code",
   "execution_count": 6,
   "metadata": {},
   "outputs": [
    {
     "data": {
      "text/plain": [
       "defined \u001b[32mfunction\u001b[39m \u001b[36msafeStringOp\u001b[39m\r\n",
       "defined \u001b[32mfunction\u001b[39m \u001b[36mreverser\u001b[39m\r\n",
       "\u001b[36mres5_2\u001b[39m: \u001b[32mString\u001b[39m = null\r\n",
       "\u001b[36mres5_3\u001b[39m: \u001b[32mString\u001b[39m = \u001b[32m\"!ylloP\"\u001b[39m"
      ]
     },
     "execution_count": 6,
     "metadata": {},
     "output_type": "execute_result"
    }
   ],
   "source": [
    "// Higher-order function\n",
    "// which takes function as parameter or return another function.\n",
    "def safeStringOp(s: String, f: String => String) =\n",
    "    if (s != null) f(s) else s\n",
    "\n",
    "def reverser(s: String) = s.reverse\n",
    "\n",
    "safeStringOp(null, reverser)\n",
    "safeStringOp(\"Polly!\", reverser)"
   ]
  },
  {
   "cell_type": "code",
   "execution_count": 8,
   "metadata": {},
   "outputs": [
    {
     "data": {
      "text/plain": [
       "defined \u001b[32mfunction\u001b[39m \u001b[36msafeStringOp\u001b[39m\r\n",
       "\u001b[36mres7_1\u001b[39m: \u001b[32mString\u001b[39m = null\r\n",
       "\u001b[36mres7_2\u001b[39m: \u001b[32mString\u001b[39m = \u001b[32m\"POLLY!\"\u001b[39m"
      ]
     },
     "execution_count": 8,
     "metadata": {},
     "output_type": "execute_result"
    }
   ],
   "source": [
    "// Function Literal (Also known as Anonymous Function, or Lambda Expression)\n",
    "def safeStringOp(s: String, f: String => String) =\n",
    "    if (s != null) f(s) else s\n",
    "\n",
    "safeStringOp(null, (s: String) => s.reverse)\n",
    "safeStringOp(\"Polly!\", (s: String) => s.toUpperCase)"
   ]
  },
  {
   "cell_type": "code",
   "execution_count": 10,
   "metadata": {},
   "outputs": [
    {
     "data": {
      "text/plain": [
       "defined \u001b[32mfunction\u001b[39m \u001b[36mmax\u001b[39m\r\n",
       "\u001b[36mmaximize\u001b[39m: (\u001b[32mInt\u001b[39m, \u001b[32mInt\u001b[39m) => \u001b[32mInt\u001b[39m = <function2>\r\n",
       "\u001b[36mmaximize2\u001b[39m: (\u001b[32mInt\u001b[39m, \u001b[32mInt\u001b[39m) => \u001b[32mInt\u001b[39m = <function2>\r\n",
       "\u001b[36mres9_3\u001b[39m: \u001b[32mInt\u001b[39m = \u001b[32m96\u001b[39m\r\n",
       "\u001b[36mres9_4\u001b[39m: \u001b[32mInt\u001b[39m = \u001b[32m96\u001b[39m"
      ]
     },
     "execution_count": 10,
     "metadata": {},
     "output_type": "execute_result"
    }
   ],
   "source": [
    "def max(a: Int, b: Int) = if (a > b) a else b\n",
    "\n",
    "val maximize = max _\n",
    "\n",
    "val maximize2 = (a: Int, b: Int) => if (a > b) a else b\n",
    "\n",
    "maximize(84, 96)\n",
    "maximize2(84, 96)"
   ]
  },
  {
   "cell_type": "code",
   "execution_count": 11,
   "metadata": {},
   "outputs": [
    {
     "data": {
      "text/plain": [
       "defined \u001b[32mfunction\u001b[39m \u001b[36msafeStringOp\u001b[39m\r\n",
       "\u001b[36mres10_1\u001b[39m: \u001b[32mString\u001b[39m = null\r\n",
       "\u001b[36mres10_2\u001b[39m: \u001b[32mString\u001b[39m = \u001b[32m\"POLLY!\"\u001b[39m"
      ]
     },
     "execution_count": 11,
     "metadata": {},
     "output_type": "execute_result"
    }
   ],
   "source": [
    "// More concise expressions with Type Inference\n",
    "def safeStringOp(s: String, f: String => String) =\n",
    "    if (s != null) f(s) else s\n",
    "\n",
    "safeStringOp(null, s => s.reverse)\n",
    "safeStringOp(\"Polly!\", s => s.toUpperCase)"
   ]
  },
  {
   "cell_type": "code",
   "execution_count": 12,
   "metadata": {},
   "outputs": [
    {
     "data": {
      "text/plain": [
       "defined \u001b[32mfunction\u001b[39m \u001b[36msafeStringOp\u001b[39m\r\n",
       "\u001b[36mres11_1\u001b[39m: \u001b[32mString\u001b[39m = null\r\n",
       "\u001b[36mres11_2\u001b[39m: \u001b[32mString\u001b[39m = \u001b[32m\"POLLY!\"\u001b[39m"
      ]
     },
     "execution_count": 12,
     "metadata": {},
     "output_type": "execute_result"
    }
   ],
   "source": [
    "// Placeholder syntax\n",
    "def safeStringOp(s: String, f: String => String) =\n",
    "    if (s != null) f(s) else s\n",
    "\n",
    "safeStringOp(null, _.reverse)\n",
    "safeStringOp(\"Polly!\", _.toUpperCase)"
   ]
  },
  {
   "cell_type": "code",
   "execution_count": 18,
   "metadata": {},
   "outputs": [
    {
     "data": {
      "text/plain": [
       "defined \u001b[32mfunction\u001b[39m \u001b[36mreduce2\u001b[39m\r\n",
       "\u001b[36mres17_1\u001b[39m: \u001b[32mInt\u001b[39m = \u001b[32m3\u001b[39m\r\n",
       "\u001b[36mres17_2\u001b[39m: \u001b[32mDouble\u001b[39m = \u001b[32m0.5\u001b[39m\r\n",
       "defined \u001b[32mfunction\u001b[39m \u001b[36mconcat\u001b[39m\r\n",
       "\u001b[36mres17_4\u001b[39m: \u001b[32mString\u001b[39m = \u001b[32m\"12\"\u001b[39m"
      ]
     },
     "execution_count": 18,
     "metadata": {},
     "output_type": "execute_result"
    }
   ],
   "source": [
    "// More Placeholder syntax..\n",
    "def reduce2[A, B](a: A, b: A, f: (A, A) => B) = f(a, b)\n",
    "\n",
    "reduce2[Int, Int](1, 2, _ + _)\n",
    "reduce2[Int, Double](1, 2, 1.0 * _ / _)\n",
    "\n",
    "def concat[T](a: T, b: T): String = a.toString + b.toString\n",
    "\n",
    "reduce2[Int, String](1, 2, concat)"
   ]
  },
  {
   "cell_type": "code",
   "execution_count": 21,
   "metadata": {},
   "outputs": [
    {
     "data": {
      "text/plain": [
       "defined \u001b[32mfunction\u001b[39m \u001b[36mmultiply\u001b[39m\r\n",
       "\u001b[36mres20_1\u001b[39m: \u001b[32mInt\u001b[39m = \u001b[32m100\u001b[39m\r\n",
       "\u001b[36mf\u001b[39m: (\u001b[32mInt\u001b[39m, \u001b[32mInt\u001b[39m) => \u001b[32mInt\u001b[39m = <function2>\r\n",
       "\u001b[36mmultiplyBy3\u001b[39m: \u001b[32mInt\u001b[39m => \u001b[32mInt\u001b[39m = <function1>\r\n",
       "\u001b[36mres20_4\u001b[39m: \u001b[32mInt\u001b[39m = \u001b[32m15\u001b[39m"
      ]
     },
     "execution_count": 21,
     "metadata": {},
     "output_type": "execute_result"
    }
   ],
   "source": [
    "def multiply(a: Int, b: Int) = a * b\n",
    "\n",
    "multiply(5, 20)\n",
    "\n",
    "// usual assignment using wildcard\n",
    "val f = multiply _\n",
    "\n",
    "// \"Partially Applied Function\"\n",
    "val multiplyBy3 = multiply(3, _: Int)\n",
    "\n",
    "// Now I can use this function as if it is already defined.\n",
    "multiplyBy3(5)"
   ]
  },
  {
   "cell_type": "code",
   "execution_count": null,
   "metadata": {},
   "outputs": [],
   "source": []
  }
 ],
 "metadata": {
  "kernelspec": {
   "display_name": "Scala 2.11.11",
   "language": "scala",
   "name": "scala"
  },
  "language_info": {
   "codemirror_mode": "text/x-scala",
   "file_extension": ".scala",
   "mimetype": "text/x-scala",
   "name": "scala211",
   "nbconvert_exporter": "script",
   "pygments_lexer": "scala",
   "version": "2.11.11"
  }
 },
 "nbformat": 4,
 "nbformat_minor": 2
}
