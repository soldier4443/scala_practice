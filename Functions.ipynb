{
 "cells": [
  {
   "cell_type": "code",
   "execution_count": 1,
   "metadata": {},
   "outputs": [
    {
     "data": {
      "text/plain": [
       "defined \u001b[32mfunction\u001b[39m \u001b[36mhi\u001b[39m\r\n",
       "\u001b[36mres0_1\u001b[39m: \u001b[32mString\u001b[39m = \u001b[32m\"hi\"\u001b[39m"
      ]
     },
     "execution_count": 1,
     "metadata": {},
     "output_type": "execute_result"
    }
   ],
   "source": [
    "def hi = \"hi\"\n",
    "\n",
    "hi"
   ]
  },
  {
   "cell_type": "code",
   "execution_count": 2,
   "metadata": {},
   "outputs": [
    {
     "data": {
      "text/plain": [
       "defined \u001b[32mfunction\u001b[39m \u001b[36msquare\u001b[39m\r\n",
       "\u001b[36mres1_1\u001b[39m: \u001b[32mInt\u001b[39m = \u001b[32m4\u001b[39m"
      ]
     },
     "execution_count": 2,
     "metadata": {},
     "output_type": "execute_result"
    }
   ],
   "source": [
    "def square(x: Int): Int = x * x\n",
    "\n",
    "square(2)"
   ]
  },
  {
   "cell_type": "code",
   "execution_count": 5,
   "metadata": {},
   "outputs": [
    {
     "name": "stdout",
     "output_type": "stream",
     "text": [
      "Value is 3\n"
     ]
    },
    {
     "data": {
      "text/plain": [
       "defined \u001b[32mfunction\u001b[39m \u001b[36mlog\u001b[39m\r\n",
       "\u001b[36mres4_2\u001b[39m: \u001b[32mClass\u001b[39m[\u001b[32mUnit\u001b[39m] = void"
      ]
     },
     "execution_count": 5,
     "metadata": {},
     "output_type": "execute_result"
    }
   ],
   "source": [
    "// procedure - returns no value.\n",
    "def log(x: Int) = println(s\"Value is $x\")\n",
    "\n",
    "val res = log(3)\n",
    "res.getClass"
   ]
  },
  {
   "cell_type": "code",
   "execution_count": 7,
   "metadata": {},
   "outputs": [
    {
     "data": {
      "text/plain": [
       "defined \u001b[32mfunction\u001b[39m \u001b[36mhi\u001b[39m\r\n",
       "\u001b[36mres6_1\u001b[39m: \u001b[32mString\u001b[39m = \u001b[32m\"hi\"\u001b[39m\r\n",
       "\u001b[36mres6_2\u001b[39m: \u001b[32mString\u001b[39m = \u001b[32m\"hi\"\u001b[39m"
      ]
     },
     "execution_count": 7,
     "metadata": {},
     "output_type": "execute_result"
    }
   ],
   "source": [
    "// Define function with empty parentheses\n",
    "def hi() = \"hi\"\n",
    "\n",
    "hi() // This is allowed\n",
    "hi"
   ]
  },
  {
   "cell_type": "code",
   "execution_count": 6,
   "metadata": {},
   "outputs": [
    {
     "name": "stderr",
     "output_type": "stream",
     "text": [
      "cmd6.sc:3: not enough arguments for method apply: (index: Int)Char in class StringOps.\r\n",
      "Unspecified value parameter index.\r\n",
      "val res6_1 = hello() // This is not allowed\r\n",
      "                  ^"
     ]
    },
    {
     "ename": "",
     "evalue": "",
     "output_type": "error",
     "traceback": [
      "Compilation Failed"
     ]
    }
   ],
   "source": [
    "def hello = \"hello\"\n",
    "\n",
    "hello() // This is not allowed"
   ]
  },
  {
   "cell_type": "code",
   "execution_count": 9,
   "metadata": {},
   "outputs": [
    {
     "data": {
      "text/plain": [
       "defined \u001b[32mfunction\u001b[39m \u001b[36mdoubling\u001b[39m\r\n",
       "\u001b[36mres8_1\u001b[39m: \u001b[32mDouble\u001b[39m = \u001b[32m4.0\u001b[39m\r\n",
       "\u001b[36mres8_2\u001b[39m: \u001b[32mDouble\u001b[39m = \u001b[32m1.0948\u001b[39m"
      ]
     },
     "execution_count": 9,
     "metadata": {},
     "output_type": "execute_result"
    }
   ],
   "source": [
    "// call with expression block\n",
    "def doubling(x: Double) = x * 2\n",
    "\n",
    "doubling(2)\n",
    "doubling { val rate = 0.145; 0.53 + 0.12 * rate }"
   ]
  },
  {
   "cell_type": "code",
   "execution_count": 13,
   "metadata": {},
   "outputs": [
    {
     "data": {
      "text/plain": [
       "defined \u001b[32mfunction\u001b[39m \u001b[36mpower\u001b[39m\r\n",
       "\u001b[36mres12_1\u001b[39m: \u001b[32mLong\u001b[39m = \u001b[32m1048576L\u001b[39m"
      ]
     },
     "execution_count": 13,
     "metadata": {},
     "output_type": "execute_result"
    }
   ],
   "source": [
    "// Optimize recursion with tail recursion\n",
    "// Last statement of the function should be a recursive call.\n",
    "@annotation.tailrec\n",
    "def power(x: Int, n: Int, t: Int = 1): Long = {\n",
    "    if (n < 1) t\n",
    "    else power(x, n - 1, x * t)\n",
    "}\n",
    "\n",
    "power(2, 20)"
   ]
  },
  {
   "cell_type": "code",
   "execution_count": 15,
   "metadata": {},
   "outputs": [
    {
     "data": {
      "text/plain": [
       "defined \u001b[32mfunction\u001b[39m \u001b[36mmax\u001b[39m\r\n",
       "\u001b[36mres14_1\u001b[39m: \u001b[32mInt\u001b[39m = \u001b[32m3\u001b[39m"
      ]
     },
     "execution_count": 15,
     "metadata": {},
     "output_type": "execute_result"
    }
   ],
   "source": [
    "// nested functions\n",
    "def max(a: Int, b: Int, c: Int) = {\n",
    "    def max(a: Int, b: Int) = if (a > b) a else b\n",
    "    max(a, max(b, c))\n",
    "}\n",
    "\n",
    "max(1, 3, 2)"
   ]
  },
  {
   "cell_type": "code",
   "execution_count": 21,
   "metadata": {},
   "outputs": [
    {
     "name": "stdout",
     "output_type": "stream",
     "text": [
      "What is this?\n",
      "What is this?\n",
      "What is this?\n",
      "Hi\n",
      "Hello\n",
      "Hello\n",
      "Hello\n",
      "Hello\n",
      "Hello\n"
     ]
    },
    {
     "data": {
      "text/plain": [
       "defined \u001b[32mfunction\u001b[39m \u001b[36msay\u001b[39m"
      ]
     },
     "execution_count": 21,
     "metadata": {},
     "output_type": "execute_result"
    }
   ],
   "source": [
    "// default values\n",
    "// send parameters with name\n",
    "def say(word: String, times: Int = 3) = {\n",
    "    for (i <- 1 to times) println(word)\n",
    "}\n",
    "\n",
    "say(\"What is this?\")\n",
    "say(\"Hi\", 1)\n",
    "say(times = 5, word = \"Hello\")"
   ]
  },
  {
   "cell_type": "code",
   "execution_count": 24,
   "metadata": {},
   "outputs": [
    {
     "data": {
      "text/plain": [
       "defined \u001b[32mfunction\u001b[39m \u001b[36mgreet\u001b[39m\r\n",
       "\u001b[36mres23_1\u001b[39m: \u001b[32mString\u001b[39m = \u001b[32m\"tura\"\u001b[39m\r\n",
       "\u001b[36mres23_2\u001b[39m: \u001b[32mString\u001b[39m = \u001b[32m\"I'm tura\"\u001b[39m"
      ]
     },
     "execution_count": 24,
     "metadata": {},
     "output_type": "execute_result"
    }
   ],
   "source": [
    "def greet(prefix: String = \"\", name: String) = s\"$prefix$name\"\n",
    "\n",
    "greet(name=\"tura\")\n",
    "greet(\"I'm \", \"tura\")"
   ]
  },
  {
   "cell_type": "code",
   "execution_count": 27,
   "metadata": {},
   "outputs": [
    {
     "data": {
      "text/plain": [
       "defined \u001b[32mfunction\u001b[39m \u001b[36msum\u001b[39m\r\n",
       "\u001b[36mres26_1\u001b[39m: \u001b[32mInt\u001b[39m = \u001b[32m25\u001b[39m\r\n",
       "\u001b[36mres26_2\u001b[39m: \u001b[32mInt\u001b[39m = \u001b[32m30\u001b[39m"
      ]
     },
     "execution_count": 27,
     "metadata": {},
     "output_type": "execute_result"
    }
   ],
   "source": [
    "// vararg\n",
    "def sum(items: Int*) = { \n",
    "    var total = 0\n",
    "    for (i <- items) total += i\n",
    "    total \n",
    "}\n",
    "\n",
    "sum(1, 3, 5, 7, 9)\n",
    "sum(5, 10, 15)"
   ]
  },
  {
   "cell_type": "code",
   "execution_count": 29,
   "metadata": {},
   "outputs": [
    {
     "data": {
      "text/plain": [
       "defined \u001b[32mfunction\u001b[39m \u001b[36mmax\u001b[39m\r\n",
       "\u001b[36mres28_1\u001b[39m: \u001b[32mInt\u001b[39m = \u001b[32m30\u001b[39m"
      ]
     },
     "execution_count": 29,
     "metadata": {},
     "output_type": "execute_result"
    }
   ],
   "source": [
    "// parameter group\n",
    "def max(x: Int)(y: Int) = if (x > y) x else y\n",
    "\n",
    "max(20)(30)"
   ]
  },
  {
   "cell_type": "code",
   "execution_count": 33,
   "metadata": {},
   "outputs": [
    {
     "data": {
      "text/plain": [
       "defined \u001b[32mfunction\u001b[39m \u001b[36midentity\u001b[39m\r\n",
       "\u001b[36mres32_1\u001b[39m: \u001b[32mString\u001b[39m = \u001b[32m\"identity!\"\u001b[39m\r\n",
       "\u001b[36mres32_2\u001b[39m: \u001b[32mDouble\u001b[39m = \u001b[32m5.5\u001b[39m\r\n",
       "\u001b[36md\u001b[39m: \u001b[32mDouble\u001b[39m = \u001b[32m1.234\u001b[39m"
      ]
     },
     "execution_count": 33,
     "metadata": {},
     "output_type": "execute_result"
    }
   ],
   "source": [
    "// \"Type parameter\" - similar with Generic in Java??\n",
    "def identity[Type](x: Type) = x\n",
    "\n",
    "identity[String](\"identity!\")\n",
    "\n",
    "// type inference\n",
    "identity(5.5)\n",
    "val d = identity(1.234)"
   ]
  },
  {
   "cell_type": "code",
   "execution_count": 34,
   "metadata": {},
   "outputs": [
    {
     "data": {
      "text/plain": [
       "\u001b[36mfile\u001b[39m: \u001b[32mString\u001b[39m = \u001b[32m\"tura.csv\"\u001b[39m\r\n",
       "\u001b[36misCsv\u001b[39m: \u001b[32mBoolean\u001b[39m = \u001b[32mtrue\u001b[39m"
      ]
     },
     "execution_count": 34,
     "metadata": {},
     "output_type": "execute_result"
    }
   ],
   "source": [
    "// method and \"infix dot notation\"\n",
    "val file = \"tura.csv\"\n",
    "val isCsv = file.endsWith(\".csv\")"
   ]
  },
  {
   "cell_type": "code",
   "execution_count": 40,
   "metadata": {},
   "outputs": [
    {
     "data": {
      "text/plain": [
       "\u001b[36md\u001b[39m: \u001b[32mDouble\u001b[39m = \u001b[32m14.52\u001b[39m\r\n",
       "\u001b[36mres39_1\u001b[39m: \u001b[32mLong\u001b[39m = \u001b[32m15L\u001b[39m\r\n",
       "\u001b[36mres39_2\u001b[39m: \u001b[32mDouble\u001b[39m = \u001b[32m14.0\u001b[39m\r\n",
       "\u001b[36mres39_3\u001b[39m: \u001b[32mInt\u001b[39m = \u001b[32m-1\u001b[39m\r\n",
       "\u001b[36mres39_4\u001b[39m: \u001b[32mDouble\u001b[39m = \u001b[32m17.23\u001b[39m"
      ]
     },
     "execution_count": 40,
     "metadata": {},
     "output_type": "execute_result"
    }
   ],
   "source": [
    "val d = 14.52\n",
    "\n",
    "d.round\n",
    "d.floor\n",
    "d.compare(18.23)\n",
    "d.+(2.71)"
   ]
  },
  {
   "cell_type": "code",
   "execution_count": 44,
   "metadata": {},
   "outputs": [
    {
     "data": {
      "text/plain": [
       "\u001b[36mi\u001b[39m: \u001b[32mInt\u001b[39m = \u001b[32m1523\u001b[39m\r\n",
       "\u001b[36mres43_1\u001b[39m: \u001b[32mInt\u001b[39m = \u001b[32m1773\u001b[39m\r\n",
       "\u001b[36mres43_2\u001b[39m: \u001b[32mInt\u001b[39m = \u001b[32m1773\u001b[39m\r\n",
       "\u001b[36ms\u001b[39m: \u001b[32mString\u001b[39m = \u001b[32m\"Scala is Fun!\"\u001b[39m\r\n",
       "\u001b[36mres43_4\u001b[39m: \u001b[32mString\u001b[39m = \u001b[32m\"cala i\"\u001b[39m\r\n",
       "\u001b[36mres43_5\u001b[39m: \u001b[32mString\u001b[39m = \u001b[32m\"cala i\"\u001b[39m"
      ]
     },
     "execution_count": 44,
     "metadata": {},
     "output_type": "execute_result"
    }
   ],
   "source": [
    "// \"infix operator notation\"\n",
    "val i = 1523\n",
    "\n",
    "i.+(120).+(130)\n",
    "i + 120 + 130\n",
    "\n",
    "val s = \"Scala is Fun!\"\n",
    "\n",
    "s.substring(1, 7)\n",
    "s substring (1, 7)"
   ]
  },
  {
   "cell_type": "code",
   "execution_count": 46,
   "metadata": {},
   "outputs": [
    {
     "data": {
      "text/plain": [
       "defined \u001b[32mfunction\u001b[39m \u001b[36msurfaceOfCircle\u001b[39m\r\n",
       "\u001b[36mres45_1\u001b[39m: \u001b[32mDouble\u001b[39m = \u001b[32m314.0\u001b[39m"
      ]
     },
     "execution_count": 46,
     "metadata": {},
     "output_type": "execute_result"
    }
   ],
   "source": [
    "def surfaceOfCircle(r: Double) = r * r * 3.14\n",
    "\n",
    "surfaceOfCircle(10)"
   ]
  },
  {
   "cell_type": "code",
   "execution_count": 47,
   "metadata": {},
   "outputs": [
    {
     "ename": "",
     "evalue": "",
     "output_type": "error",
     "traceback": [
      "\u001b[31mjava.lang.NumberFormatException: empty String\u001b[39m\r",
      "  sun.misc.FloatingDecimal.readJavaFormatString(\u001b[32mUnknown Source\u001b[39m)\r",
      "  sun.misc.FloatingDecimal.parseDouble(\u001b[32mUnknown Source\u001b[39m)\r",
      "  java.lang.Double.parseDouble(\u001b[32mUnknown Source\u001b[39m)\r",
      "  scala.collection.immutable.StringLike$class.toDouble(\u001b[32mStringLike.scala\u001b[39m:\u001b[32m285\u001b[39m)\r",
      "  scala.collection.immutable.StringOps.toDouble(\u001b[32mStringOps.scala\u001b[39m:\u001b[32m29\u001b[39m)\r",
      "  $sess.cmd46Wrapper$Helper.surfaceOfCircle(\u001b[32mcmd46.sc\u001b[39m:\u001b[32m1\u001b[39m)\r",
      "  $sess.cmd46Wrapper$Helper.<init>(\u001b[32mcmd46.sc\u001b[39m:\u001b[32m3\u001b[39m)\r",
      "  $sess.cmd46Wrapper.<init>(\u001b[32mcmd46.sc\u001b[39m:\u001b[32m453\u001b[39m)\r",
      "  $sess.cmd46$.<init>(\u001b[32mcmd46.sc\u001b[39m:\u001b[32m247\u001b[39m)\r",
      "  $sess.cmd46$.<clinit>(\u001b[32mcmd46.sc\u001b[39m:\u001b[32m-1\u001b[39m)"
     ]
    }
   ],
   "source": [
    "def surfaceOfCircle(r: String) = r.toDouble * r.toDouble * 3.14\n",
    "\n",
    "surfaceOfCircle(\"\")"
   ]
  },
  {
   "cell_type": "code",
   "execution_count": 51,
   "metadata": {},
   "outputs": [
    {
     "name": "stdout",
     "output_type": "stream",
     "text": [
      "5\n",
      "10\n",
      "15\n",
      "20\n",
      "25\n",
      "30\n",
      "35\n",
      "40\n",
      "45\n"
     ]
    },
    {
     "data": {
      "text/plain": [
       "defined \u001b[32mfunction\u001b[39m \u001b[36mprintRecursive\u001b[39m"
      ]
     },
     "execution_count": 51,
     "metadata": {},
     "output_type": "execute_result"
    }
   ],
   "source": [
    "@annotation.tailrec\n",
    "def printRecursive(value: Int, maxValue: Int, increment: Int): Unit = {\n",
    "    if (value < maxValue) println(value)\n",
    "    else return\n",
    "    \n",
    "    printRecursive(value + increment, maxValue, increment)\n",
    "}\n",
    "\n",
    "printRecursive(5, 50, 5)"
   ]
  },
  {
   "cell_type": "code",
   "execution_count": 55,
   "metadata": {},
   "outputs": [
    {
     "name": "stdout",
     "output_type": "stream",
     "text": [
      "1, 24, 1440, 86440"
     ]
    },
    {
     "data": {
      "text/plain": [
       "defined \u001b[32mfunction\u001b[39m \u001b[36mprintTime\u001b[39m"
      ]
     },
     "execution_count": 55,
     "metadata": {},
     "output_type": "execute_result"
    }
   ],
   "source": [
    "def printTime(timeInMillis: Long) = {\n",
    "    val sec = timeInMillis / 1000\n",
    "    val min = sec / 60\n",
    "    val hour = min / 60\n",
    "    val day = hour / 24\n",
    "    \n",
    "    print(f\"$day, $hour, $min, $sec\")\n",
    "}\n",
    "\n",
    "printTime(86440000)"
   ]
  },
  {
   "cell_type": "code",
   "execution_count": 65,
   "metadata": {},
   "outputs": [
    {
     "data": {
      "text/plain": [
       "defined \u001b[32mfunction\u001b[39m \u001b[36mmyPow\u001b[39m\r\n",
       "\u001b[36mres64_1\u001b[39m: \u001b[32mLong\u001b[39m = \u001b[32m243L\u001b[39m"
      ]
     },
     "execution_count": 65,
     "metadata": {},
     "output_type": "execute_result"
    }
   ],
   "source": [
    "def myPow(x:Long, y:Long, prevResult: Long = 1): Long = {\n",
    "    if (y == 0) prevResult\n",
    "    else myPow(x, y - 1, prevResult * x)\n",
    "}\n",
    "\n",
    "myPow(3, 5)"
   ]
  },
  {
   "cell_type": "code",
   "execution_count": 74,
   "metadata": {},
   "outputs": [
    {
     "data": {
      "text/plain": [
       "\u001b[36mtup\u001b[39m: (\u001b[32mDouble\u001b[39m, \u001b[32mDouble\u001b[39m) = (\u001b[32m2.5\u001b[39m, \u001b[32m3.0\u001b[39m)\r\n",
       "defined \u001b[32mfunction\u001b[39m \u001b[36mdistance\u001b[39m\r\n",
       "\u001b[36mres73_2\u001b[39m: \u001b[32mDouble\u001b[39m = \u001b[32m4.242640687119285\u001b[39m"
      ]
     },
     "execution_count": 74,
     "metadata": {},
     "output_type": "execute_result"
    }
   ],
   "source": [
    "val tup: (Double, Double) = (2.5, 3)\n",
    "\n",
    "def distance(p1: (Double, Double), p2: (Double, Double)) = \n",
    "    math.sqrt((p2._1 - p1._1) * (p2._1 - p1._1) + \n",
    "              (p2._2 - p1._2) * (p2._2 - p1._2))\n",
    "\n",
    "distance((0, 0), (3, 3))"
   ]
  },
  {
   "cell_type": "code",
   "execution_count": 82,
   "metadata": {},
   "outputs": [
    {
     "data": {
      "text/plain": [
       "defined \u001b[32mfunction\u001b[39m \u001b[36mwhat\u001b[39m\r\n",
       "\u001b[36ma\u001b[39m: (\u001b[32mAny\u001b[39m, \u001b[32mAny\u001b[39m) = (1, 2.2)\r\n",
       "\u001b[36mb\u001b[39m: (\u001b[32mAny\u001b[39m, \u001b[32mAny\u001b[39m) = (1, 2.2)"
      ]
     },
     "execution_count": 82,
     "metadata": {},
     "output_type": "execute_result"
    }
   ],
   "source": [
    "def what[T1, T2](tuple: (T1, T2)) = {\n",
    "    if (tuple._2.isInstanceOf[Int]) (tuple._2, tuple._1)\n",
    "    else tuple\n",
    "}\n",
    "\n",
    "val a = what(1, 2.2)\n",
    "val b = what(2.2, 1)"
   ]
  },
  {
   "cell_type": "code",
   "execution_count": 87,
   "metadata": {},
   "outputs": [
    {
     "data": {
      "text/plain": [
       "defined \u001b[32mfunction\u001b[39m \u001b[36mwhatwhat\u001b[39m\r\n",
       "\u001b[36mtuple\u001b[39m: (\u001b[32mInt\u001b[39m, \u001b[32mString\u001b[39m, \u001b[32mString\u001b[39m, \u001b[32mString\u001b[39m, \u001b[32mDouble\u001b[39m, \u001b[32mString\u001b[39m) = (\u001b[32m1\u001b[39m, \u001b[32m\"1\"\u001b[39m, \u001b[32m\"YES\"\u001b[39m, \u001b[32m\"YES\"\u001b[39m, \u001b[32m1.52\u001b[39m, \u001b[32m\"1.52\"\u001b[39m)"
      ]
     },
     "execution_count": 87,
     "metadata": {},
     "output_type": "execute_result"
    }
   ],
   "source": [
    "def whatwhat[T1, T2, T3](tuple: (T1, T2, T3)) = \n",
    "    (tuple._1, tuple._1.toString, tuple._2, tuple._2.toString, tuple._3, tuple._3.toString)\n",
    "\n",
    "val tuple: (Int, String, String, String, Double, String) = whatwhat((1, \"YES\", 1.52))"
   ]
  },
  {
   "cell_type": "code",
   "execution_count": null,
   "metadata": {},
   "outputs": [],
   "source": []
  }
 ],
 "metadata": {
  "kernelspec": {
   "display_name": "Scala 2.11.11",
   "language": "scala",
   "name": "scala"
  },
  "language_info": {
   "codemirror_mode": "text/x-scala",
   "file_extension": ".scala",
   "mimetype": "text/x-scala",
   "name": "scala211",
   "nbconvert_exporter": "script",
   "pygments_lexer": "scala",
   "version": "2.11.11"
  }
 },
 "nbformat": 4,
 "nbformat_minor": 2
}
